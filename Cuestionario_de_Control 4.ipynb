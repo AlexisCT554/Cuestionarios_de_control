{
  "nbformat": 4,
  "nbformat_minor": 0,
  "metadata": {
    "colab": {
      "name": "ArraysADT_EDD1310.ipynb",
      "provenance": []
    },
    "kernelspec": {
      "name": "python3",
      "display_name": "Python 3"
    },
    "language_info": {
      "name": "python"
    }
  },
  "cells": [
    {
      "cell_type": "markdown",
      "metadata": {
        "id": "2bUDTg7-fuA2"
      },
      "source": [
        ""
      ]
    },
    {
      "cell_type": "code",
      "metadata": {
        "colab": {
          "base_uri": "https://localhost:8080/"
        },
        "id": "b7sI932WfjVG",
        "outputId": "10f58f05-11a0-45dc-f889-e275fa0f64b2"
      },
      "source": [
        "class Array:\n",
        "  def __init__(self, tam):\n",
        "    self.__tamanio= tam \n",
        "    self.__data = [ 0 for x in range(self.__tamanio)]\n",
        "\n",
        "  def to_string(self):\n",
        "    info = \"\"\n",
        "    for dato in self.__data:\n",
        "      info = info + str(dato) + \"|\"\n",
        "    return info \n",
        "\n",
        "  def get_item(self , index):\n",
        "    return self.__data[index]\n",
        "\n",
        "  def get_length(self):\n",
        "    return len(self.__data)\n",
        "  \n",
        "  def set_item(self, dato, index):\n",
        "    #hace falta revisar limites\n",
        "    if index >= 0 and index < self.get_length():\n",
        "      self.__data[index]=dato\n",
        "    else:\n",
        "      print(\"Error:  Indice fuera de rango\")\n",
        "\n",
        "  def clear(self, dato):\n",
        "     self.__data = [ dato for x in range(self.__tamanio)]\n",
        "\n",
        "ejemplo=Array(20)\n",
        "print(ejemplo.to_string())\n",
        "print(ejemplo.get_item(2))\n",
        "ejemplo.set_item( 45, 22)\n",
        "print(ejemplo.to_string())\n",
        "ejemplo.clear(4)\n",
        "print(ejemplo.to_string())\n",
        "print(ejemplo.get_length())"
      ],
      "execution_count": 2,
      "outputs": [
        {
          "output_type": "stream",
          "name": "stdout",
          "text": [
            "0|0|0|0|0|0|0|0|0|0|0|0|0|0|0|0|0|0|0|0|\n",
            "0\n",
            "Error:  Indice fuera de rango\n",
            "0|0|0|0|0|0|0|0|0|0|0|0|0|0|0|0|0|0|0|0|\n",
            "4|4|4|4|4|4|4|4|4|4|4|4|4|4|4|4|4|4|4|4|\n",
            "20\n"
          ]
        }
      ]
    },
    {
      "cell_type": "code",
      "metadata": {
        "colab": {
          "base_uri": "https://localhost:8080/"
        },
        "id": "V_Pa8uCngjQc",
        "outputId": "8231704e-989b-400c-f3db-951c86ca9410"
      },
      "source": [
        "lista=[3 *  x for x in range(15)]\n",
        "print(lista)"
      ],
      "execution_count": null,
      "outputs": [
        {
          "output_type": "stream",
          "name": "stdout",
          "text": [
            "[0, 3, 6, 9, 12, 15, 18, 21, 24, 27, 30, 33, 36, 39, 42]\n"
          ]
        }
      ]
    },
    {
      "cell_type": "code",
      "metadata": {
        "colab": {
          "base_uri": "https://localhost:8080/"
        },
        "id": "vnW1kYUPlqrb",
        "outputId": "1e7cab38-2146-4fde-81bd-295ef7ae3d6d"
      },
      "source": [
        "!cat junio.dat"
      ],
      "execution_count": 5,
      "outputs": [
        {
          "output_type": "stream",
          "name": "stdout",
          "text": [
            "numero de trabajador, nombres, paterno, materno, horas extra, sueldo base, año de ingreso\r\n",
            "2345,CARLOS,PEREZ,CASTILLO,0,9850,2017\r\n",
            "5754,ANGEL,GOMEZ,GARRIDO,1,9850,2020\r\n",
            "5345,JESUS,MARTIN,SANTOS,2,9850,2016\r\n",
            "3267,DAVID,JIMENEZ,LOZANO,2,9850,2017\r\n",
            "8765,PEDRO,RUIZ,GUERRERO,2,9850,2017\r\n",
            "5454,DANIEL,HERNANDEZ,CANO,3,9850,2018\r\n",
            "3456,ALEJANDRO,DIAZ,PRIETO,2,9850,2018\r\n",
            "3445,MARIA,MORENO,MENDEZ,1,9850,2018\r\n",
            "9088,ALBERTO,MU�OZ,CRUZ,1,9850,2017\r\n",
            "8877,RAFAEL,ALVAREZ,FLORES,2,9850,2017\r\n",
            "6767,FERNANDO,ROMERO,HERRERA,4,9850,2019\r\n",
            "5654,PABLO,ALONSO,GALLEGO,1,9850,2019\r\n",
            "4323,JORGE,GUTIERREZ,MARQUEZ,2,9850,2020\r\n",
            "2232,RAMON,NAVARRO,LEON,1,9850,2016"
          ]
        }
      ]
    },
    {
      "cell_type": "code",
      "metadata": {
        "colab": {
          "base_uri": "https://localhost:8080/"
        },
        "id": "PfRM1-u5m9Nj",
        "outputId": "3ccdc1ae-efc2-418e-aae2-a49ceb8cc9f9"
      },
      "source": [
        "archivo = open('junio.dat','rt',encoding='latin-1')\n",
        "print(archivo.read())"
      ],
      "execution_count": 7,
      "outputs": [
        {
          "output_type": "stream",
          "name": "stdout",
          "text": [
            "numero de trabajador, nombres, paterno, materno, horas extra, sueldo base, aÃ±o de ingreso\n",
            "2345,CARLOS,PEREZ,CASTILLO,0,9850,2017\n",
            "5754,ANGEL,GOMEZ,GARRIDO,1,9850,2020\n",
            "5345,JESUS,MARTIN,SANTOS,2,9850,2016\n",
            "3267,DAVID,JIMENEZ,LOZANO,2,9850,2017\n",
            "8765,PEDRO,RUIZ,GUERRERO,2,9850,2017\n",
            "5454,DANIEL,HERNANDEZ,CANO,3,9850,2018\n",
            "3456,ALEJANDRO,DIAZ,PRIETO,2,9850,2018\n",
            "3445,MARIA,MORENO,MENDEZ,1,9850,2018\n",
            "9088,ALBERTO,MUOZ,CRUZ,1,9850,2017\n",
            "8877,RAFAEL,ALVAREZ,FLORES,2,9850,2017\n",
            "6767,FERNANDO,ROMERO,HERRERA,4,9850,2019\n",
            "5654,PABLO,ALONSO,GALLEGO,1,9850,2019\n",
            "4323,JORGE,GUTIERREZ,MARQUEZ,2,9850,2020\n",
            "2232,RAMON,NAVARRO,LEON,1,9850,2016\n"
          ]
        }
      ]
    },
    {
      "cell_type": "code",
      "metadata": {
        "id": "WpSRPKbhn5vp"
      },
      "source": [
        "class Trabajador:\n",
        "  def _init__(self, nt , nom, pat, mat, he, sb, ai):\n",
        "    self.__numero_trabajador = nt  \n",
        "    self.__nombre = nom\n",
        "    self.__apellido_paterno = pat\n",
        "    self.__apellido_materno = mat\n",
        "    self.__horas_extras = he  \n",
        "    self.__sueldo_base = sb\n",
        "    self.__anio_de_ingreso = ai    \n",
        "    #asi para todos los atributos\n",
        "\n",
        "  #aqui van todos los metodos de acceso\n",
        "\n",
        "  def set_numero_trabajador(self,nt)\n",
        "    self.__numero_trabajador = not\n",
        "\n",
        "  #metodos de uso general\n",
        "  \n"
      ],
      "execution_count": null,
      "outputs": []
    },
    {
      "cell_type": "code",
      "metadata": {
        "id": "qLe89MhkqBLH"
      },
      "source": [
        "class NominaADT:\n",
        "  def __init__(self, ruta_archivo)\n",
        "    #abrir archvio y determinar el numero de empleados --> num_emp \n",
        "    self.__data = Array( num_emp )\n",
        "\n",
        "  def calcular_sueldos(self):\n",
        "\n",
        "  def buscar_mas_antiguo(self):\n",
        "  \n",
        "  def buscar_menor_antiguedad(self):"
      ],
      "execution_count": null,
      "outputs": []
    }
  ]
}