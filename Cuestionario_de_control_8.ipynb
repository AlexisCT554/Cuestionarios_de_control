{
  "nbformat": 4,
  "nbformat_minor": 0,
  "metadata": {
    "colab": {
      "name": "Listas_ligadas_ADT_1310.ipynb",
      "provenance": []
    },
    "kernelspec": {
      "name": "python3",
      "display_name": "Python 3"
    },
    "language_info": {
      "name": "python"
    }
  },
  "cells": [
    {
      "cell_type": "markdown",
      "metadata": {
        "id": "Oc1j96TR0k_s"
      },
      "source": [
        "# Ejercicios con la clase Nodo\n",
        "\n",
        "- Crear un nodo\n",
        "  - Imprimir el valor del nodo\n",
        "- Crear dos nodos\n",
        "  - Imprimir el valor del primero\n",
        "  - Imprimir el valor del segundo\n",
        "  - Transversal\n",
        "- Lo mismo pero con 4 nodos 10,20,30,40\n",
        "   - Imprimir el valor del primero\n",
        "   - Imprimir el valor del segundo\n",
        "   - Transversal\n",
        "   - Insertar el nodo 25, despues del nodo 20 y antes del nodo 30"
      ]
    },
    {
      "cell_type": "code",
      "metadata": {
        "id": "sUefQGaQ0XCH"
      },
      "source": [
        "class Nodo:\n",
        "  def __init__(self, value, siguiente = None ):\n",
        "    self.data = value\n",
        "    self.next = siguiente\n"
      ],
      "execution_count": 1,
      "outputs": []
    },
    {
      "cell_type": "code",
      "metadata": {
        "colab": {
          "base_uri": "https://localhost:8080/"
        },
        "id": "HRp7txV21tEB",
        "outputId": "6c8c16a6-850b-48ff-bd19-114b19599a85"
      },
      "source": [
        "head = Nodo(10)\n",
        "print(head.data)"
      ],
      "execution_count": 2,
      "outputs": [
        {
          "output_type": "stream",
          "name": "stdout",
          "text": [
            "10\n"
          ]
        }
      ]
    },
    {
      "cell_type": "code",
      "metadata": {
        "colab": {
          "base_uri": "https://localhost:8080/"
        },
        "id": "HtMGTArE2dy8",
        "outputId": "7e160cd7-aced-4410-e8ef-b2f8a8cb19f7"
      },
      "source": [
        "head = Nodo(10)\n",
        "head.next = Nodo(20)\n",
        "\n",
        "print(f\"Primero = {head.data} \")\n",
        "print(f\"Segundo = {head.next.data} \")\n",
        "\n",
        "#Lo mismo pero ahorrando codigo\n",
        "head = Nodo(10, Nodo (20,))\n",
        "print(f\"Primero = {head.data} \")\n",
        "print(f\"Segundo = {head.next.data} \")\n",
        "\n",
        "#transversal\n",
        "\n",
        "curr_node = head\n",
        "while curr_node != None:\n",
        "  print(f\"| {curr_node.data} | --> \", end=\"\")\n",
        "  curr_node = curr_node.next\n",
        "print(\"\")"
      ],
      "execution_count": 3,
      "outputs": [
        {
          "output_type": "stream",
          "name": "stdout",
          "text": [
            "Primero = 10 \n",
            "Segundo = 20 \n",
            "Primero = 10 \n",
            "Segundo = 20 \n",
            "| 10 | --> | 20 | --> \n"
          ]
        }
      ]
    },
    {
      "cell_type": "code",
      "metadata": {
        "colab": {
          "base_uri": "https://localhost:8080/"
        },
        "id": "oVKn_FiE66Yj",
        "outputId": "8cc8b403-f91b-488c-d52c-dfd1b86dfbbb"
      },
      "source": [
        "head = Nodo(10, Nodo(20, Nodo (30, Nodo (40))))\n",
        "#transversal\n",
        "curr_node = head\n",
        "while curr_node != None:\n",
        "  print(f\"| {curr_node.data} | --> \", end=\"\")\n",
        "  curr_node = curr_node.next\n",
        "print(\"\")\n",
        "#imprimir el primero\n",
        "print(head.data)\n",
        "#imprimir el ultimo\n",
        "curr_node = head\n",
        "while curr_node.next !=None:\n",
        "  curr_node = curr_node.next\n",
        "  print(curr_node.data)\n",
        "print(\"\")\n",
        "\n",
        "#insertar nodo 25\n",
        "curr_node = head\n",
        "while curr_node.data !=20:\n",
        "  curr_node = curr_node.next\n",
        "print(curr_node.data)\n",
        "\n",
        "#crear el nodo 25\n",
        "\n",
        "curr_node.next = Nodo(25,curr_node.next)\n",
        "print(\"Despues de insertar 25:  \")\n",
        "#transversal\n",
        "curr_node = head\n",
        "while curr_node != None:\n",
        "  print(f\"| {curr_node.data} | --> \", end=\"\")\n",
        "  curr_node = curr_node.next\n",
        "print(\"\")\n"
      ],
      "execution_count": 6,
      "outputs": [
        {
          "output_type": "stream",
          "name": "stdout",
          "text": [
            "| 10 | --> | 20 | --> | 30 | --> | 40 | --> \n",
            "10\n",
            "20\n",
            "30\n",
            "40\n",
            "\n",
            "20\n",
            "Despues de insertar 25:  \n",
            "| 10 | --> | 20 | --> | 25 | --> | 30 | --> | 40 | --> \n"
          ]
        }
      ]
    },
    {
      "cell_type": "code",
      "metadata": {
        "id": "5Er9j_6ic5TQ"
      },
      "source": [
        "class Nodo:\n",
        "  def __init__(self, value, siguiente = None ):\n",
        "    self.data = value\n",
        "    self.next = siguiente\n",
        "\n",
        "\n",
        "class LinkedList:\n",
        "  def __init__(self):\n",
        "    self.head = None\n",
        "\n",
        "  def is_empty(self):\n",
        "    return self.head == None   \n",
        "  \n",
        "  def get_tail(self):\n",
        "    if self.is_empty():\n",
        "      return None\n",
        "    else:\n",
        "      curr_node = self.head\n",
        "      while curr_node.next != None:\n",
        "       curr_node = curr_node.next\n",
        "      return curr_node\n",
        "\n",
        "  def append(self, value):\n",
        "    if self.head == None:\n",
        "      self. head = Nodo(value)\n",
        "    else:\n",
        "      curr_node = self.head\n",
        "      while curr_node.next != None:\n",
        "        curr_node = curr_node.next\n",
        "      curr_node.next = Nodo(value)\n",
        "  \n",
        "  def transversal(self):\n",
        "    curr_node = self.head\n",
        "    while curr_node != None:\n",
        "      print(f\"| {curr_node.data} | -->\", end=\"\")\n",
        "      curr_node = curr_node.next\n",
        "    print(\"\")\n",
        "\n",
        "  def remove (self, value):\n",
        "    if self.head == None:\n",
        "      print(\"Lista vacia, no se puede remover nada\")\n",
        "    else:\n",
        "      curr_node = self.head\n",
        "      aux = None\n",
        "      while curr_node.data != value: #revisar cuando el valor no exista\n",
        "        aux = curr_node\n",
        "        curr_node = curr_node.next\n",
        "\n",
        "      if curr_node != None:\n",
        "        aux.next = curr_node.next\n",
        "        curr_node = None\n",
        "  \n",
        "  def preppend(self,value):\n",
        "    if self.head ==None:\n",
        "      print(\"Esta vacio, no se puede hacer preppend\")\n",
        "    else:\n",
        "      aux = self.head\n",
        "      self.head = Nodo(value, aux)\n"
      ],
      "execution_count": 30,
      "outputs": []
    },
    {
      "cell_type": "code",
      "metadata": {
        "colab": {
          "base_uri": "https://localhost:8080/"
        },
        "id": "8FbaZvoafbBx",
        "outputId": "ea6f44d1-8102-480b-e4f3-3ae4eacd4293"
      },
      "source": [
        "lista = LinkedList()\n",
        "if lista.is_empty():\n",
        "  print(\"La lista esta vacia\")\n",
        "else:\n",
        "  print(\"La lista no esta vacia\")\n",
        "\n",
        "lista.append(10)\n",
        "lista.append(20)\n",
        "lista.append(30)\n",
        "lista.append(40)\n",
        "lista.append(50)\n",
        "nodo = lista.get_tail()\n",
        "if nodo != None:\n",
        "  print(nodo.data)\n",
        "else:\n",
        "  print(\"Lista esta vacia\")\n",
        "\n",
        "lista.transversal()\n",
        "lista.remove(30)\n",
        "lista.transversal()\n",
        "lista.preppend(5)\n",
        "print(\"Despues del preppend\")\n",
        "lista.transversal()"
      ],
      "execution_count": 31,
      "outputs": [
        {
          "output_type": "stream",
          "name": "stdout",
          "text": [
            "La lista esta vacia\n",
            "50\n",
            "| 10 | -->| 20 | -->| 30 | -->| 40 | -->| 50 | -->\n",
            "| 10 | -->| 20 | -->| 40 | -->| 50 | -->\n",
            "Despues del preppend\n",
            "| 5 | -->| 10 | -->| 20 | -->| 40 | -->| 50 | -->\n"
          ]
        }
      ]
    }
  ]
}