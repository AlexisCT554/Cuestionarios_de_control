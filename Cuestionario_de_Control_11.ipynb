{
  "nbformat": 4,
  "nbformat_minor": 0,
  "metadata": {
    "colab": {
      "name": "Pilas_1310.ipynb",
      "provenance": []
    },
    "kernelspec": {
      "name": "python3",
      "display_name": "Python 3"
    },
    "language_info": {
      "name": "python"
    }
  },
  "cells": [
    {
      "cell_type": "code",
      "metadata": {
        "id": "tI2oq0LxMvPB"
      },
      "source": [
        "class StackADT:\n",
        "  def __init__(self):\n",
        "    self.__data = list()\n",
        "\n",
        "  #Regresa true si la lista esta vacia\n",
        "  def is_empty(self):\n",
        "    return len(self.__data) == 0\n",
        "  \n",
        "  def get_length(self):\n",
        "    return len(self.__data)\n",
        "\n",
        "  def pop(self):\n",
        "    if self.is_empty():\n",
        "      print(\"Pila vacia, nada que sacar\")\n",
        "    else:\n",
        "      return self.__data.pop()\n",
        "\n",
        "  def peek(self):\n",
        "    if self.is_empty():\n",
        "      print(\"Pila vacia, nada que consultar\")\n",
        "    else:\n",
        "      return self.__data[ -1 ]\n",
        "  \n",
        "  def push(self, value):\n",
        "    self.__data.append(value)\n",
        "\n",
        "  def to_string(self):\n",
        "    for item in self.__data[::-1]:\n",
        "      print(f\"| {item} |\")\n",
        "    \n",
        "\n",
        "\n"
      ],
      "execution_count": 1,
      "outputs": []
    },
    {
      "cell_type": "code",
      "metadata": {
        "colab": {
          "base_uri": "https://localhost:8080/"
        },
        "id": "XkJ7z9JaOB_Y",
        "outputId": "8f443a14-526b-4961-eee6-ce468f796591"
      },
      "source": [
        "pila = StackADT()\n",
        "print(\"Esta vacia? =\",pila.is_empty())\n",
        "print(\"# Elementos:\",pila.get_length())\n",
        "pila.push(10)\n",
        "print(\"Esta vacia? =\",pila.is_empty())\n",
        "print(\"# Elementos:\",pila.get_length())\n",
        "pila.push(20)\n",
        "pila.push(30)\n",
        "pila.push(40)\n",
        "pila.to_string()\n",
        "print( pila.pop() )# 40\n",
        "print( pila.peek() ) # 30\n",
        "pila.to_string()"
      ],
      "execution_count": 2,
      "outputs": [
        {
          "output_type": "stream",
          "name": "stdout",
          "text": [
            "Esta vacia? = True\n",
            "# Elementos: 0\n",
            "Esta vacia? = False\n",
            "# Elementos: 1\n",
            "| 40 |\n",
            "| 30 |\n",
            "| 20 |\n",
            "| 10 |\n",
            "40\n",
            "30\n",
            "| 30 |\n",
            "| 20 |\n",
            "| 10 |\n"
          ]
        }
      ]
    },
    {
      "cell_type": "markdown",
      "metadata": {
        "id": "0EBEbgbqy56S"
      },
      "source": [
        "#Aplicacion de pilas, balanceo de llaves en programacion"
      ]
    },
    {
      "cell_type": "code",
      "metadata": {
        "colab": {
          "base_uri": "https://localhost:8080/"
        },
        "id": "blaxMEcfzOC8",
        "outputId": "8089b3af-345e-492d-852c-f0bbcabd6698"
      },
      "source": [
        "!cat prog.txt"
      ],
      "execution_count": 3,
      "outputs": [
        {
          "output_type": "stream",
          "name": "stdout",
          "text": [
            "#include <stdio.h>\r\n",
            "int main()\r\n",
            "{\r\n",
            "    int num, count, sum = 0;\r\n",
            "\r\n",
            "    printf(\"Enter a positive integer: \");\r\n",
            "    scanf(\"%d\", &num);\r\n",
            "\r\n",
            "    // for loop terminates when num is less than count\r\n",
            "    for(count = 1; count <= num; ++count)\r\n",
            "    {\r\n",
            "        sum += count;\r\n",
            "    }\r\n",
            "\r\n",
            "    printf(\"Sum = %d\", sum);\r\n",
            "\r\n",
            "    return 0;\r\n",
            "}"
          ]
        }
      ]
    },
    {
      "cell_type": "code",
      "metadata": {
        "colab": {
          "base_uri": "https://localhost:8080/"
        },
        "id": "ylPwVgc9zwgI",
        "outputId": "cf9f9a8c-d26a-4355-e599-d6c6648382e1"
      },
      "source": [
        "entrada = open('prog.txt','rt')\n",
        "codigo = entrada.read()\n",
        "#print(codigo)\n",
        "pilaControl = StackADT()\n",
        "pilaControl.push(\"#\") #Caracter de pila vacia\n",
        "\n",
        "for letra in codigo:\n",
        "  #print(f'--> { letra } <--')\n",
        "  if letra == '{':  #Regla 1\n",
        "    pilaControl.push(\"{\")\n",
        "  elif letra == '}':    #Regla 2\n",
        "    basura = pilaControl.pop()\n",
        "  else:\n",
        "    pass\n",
        "\n",
        "# NOTA: Este codigo aun no contempla desbalanceo de mas llaves de cierre\n",
        "if pilaControl.peek()=='#':\n",
        "  print(\"El codigo proporcionado esta correctamente balanceado\")\n",
        "else:\n",
        "  print(\"El codigo no esta balanceado en llaves { y }\")\n"
      ],
      "execution_count": 10,
      "outputs": [
        {
          "output_type": "stream",
          "name": "stdout",
          "text": [
            "Pila vacia, nada que consultar\n",
            "El codigo no esta balanceado en llaves { y }\n"
          ]
        }
      ]
    },
    {
      "cell_type": "markdown",
      "metadata": {
        "id": "5mQmxwJN7Rlb"
      },
      "source": [
        "#Aplicaion de pilas.\n",
        "##Estrategia de diseños de algoritmos BACKTRACKING"
      ]
    },
    {
      "cell_type": "code",
      "metadata": {
        "id": "GnCW0Opo7c-R"
      },
      "source": [
        ""
      ],
      "execution_count": null,
      "outputs": []
    }
  ]
}