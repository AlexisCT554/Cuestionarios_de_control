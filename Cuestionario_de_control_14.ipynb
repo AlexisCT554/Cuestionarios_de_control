{
  "nbformat": 4,
  "nbformat_minor": 0,
  "metadata": {
    "colab": {
      "name": "colas_1310.ipynb",
      "provenance": []
    },
    "kernelspec": {
      "name": "python3",
      "display_name": "Python 3"
    },
    "language_info": {
      "name": "python"
    }
  },
  "cells": [
    {
      "cell_type": "code",
      "metadata": {
        "id": "ujuoiaoxKCkf"
      },
      "source": [
        "class Queue:\n",
        "  def __init__ (self):\n",
        "    self.data = []\n",
        "\n",
        "  def is_empty (self):\n",
        "    return len(self.data) == 0\n",
        "  \n",
        "  def length (self):\n",
        "    return len(self.data)\n",
        "\n",
        "  def enqueue(self,value):\n",
        "    self.data.append(value)\n",
        "\n",
        "  def dequeue(self):\n",
        "    return self.data.pop(0)\n",
        "\n",
        "  def to_string(self):\n",
        "    for elem in self.data:\n",
        "      print(f\"| {elem} |<--\", end = \"\")\n",
        "    print(\"\")"
      ],
      "execution_count": 1,
      "outputs": []
    },
    {
      "cell_type": "code",
      "metadata": {
        "colab": {
          "base_uri": "https://localhost:8080/"
        },
        "id": "NL3iCoHfNme9",
        "outputId": "3246f1ab-4502-4558-f644-9dfa3bbed680"
      },
      "source": [
        "cola = Queue()\n",
        "print(\"Esta vacio??: \", cola.is_empty())\n",
        "print(\"Numero de elementos = \",cola.length())\n",
        "cola.enqueue(10)\n",
        "cola.enqueue(20)\n",
        "cola.enqueue(30)\n",
        "print(\"Esta vacio??: \", cola.is_empty())\n",
        "print(\"Numero de elementos = \",cola.length())\n",
        "cola.enqueue(40)\n",
        "cola.enqueue(50)\n",
        "cola.enqueue(60)\n",
        "cola.to_string()\n",
        "siguiente=cola.dequeue()\n",
        "print(\"Atendiendo a: \",siguiente)\n",
        "cola.to_string()"
      ],
      "execution_count": 2,
      "outputs": [
        {
          "output_type": "stream",
          "name": "stdout",
          "text": [
            "Esta vacio??:  True\n",
            "Numero de elementos =  0\n",
            "Esta vacio??:  False\n",
            "Numero de elementos =  3\n",
            "| 10 |<--| 20 |<--| 30 |<--| 40 |<--| 50 |<--| 60 |<--\n",
            "Atendiendo a:  10\n",
            "| 20 |<--| 30 |<--| 40 |<--| 50 |<--| 60 |<--\n"
          ]
        }
      ]
    },
    {
      "cell_type": "markdown",
      "metadata": {
        "id": "Eq7ZqOwUQknU"
      },
      "source": [
        "#Variantes del ADT Cola.\n",
        "1. Circulares\n",
        "2. Prioridad\n",
        "  1. Acotada\n",
        "  1. No acotada"
      ]
    },
    {
      "cell_type": "code",
      "metadata": {
        "id": "lZSCYtN6DpH3"
      },
      "source": [
        "#Implementacion de la cola de prioridad acotada.\n",
        "\n",
        "class BoundedPriorityQueue:\n",
        "  def __init__(self, niveles):\n",
        "    self.__data = [Queue() for x in range(niveles)]\n",
        "    #self.__data = Array(niveles)\n",
        "    #self.__data.clear(Queue())\n",
        "    self.__size = 0\n",
        "\n",
        "  def is_empty(self):\n",
        "    return self.__size == 0\n",
        "\n",
        "  def length(self):\n",
        "    return self.__size \n",
        "\n",
        "  def enqueue(self, prioridad , elem):\n",
        "    if prioridad < len(self.__data) \\\n",
        "      and prioridad >=0:\n",
        "      self.__data[prioridad].enqueue(elem)\n",
        "      self.__size += 1\n",
        "\n",
        "  def dequeue(self):\n",
        "    nivel = 0\n",
        "    while self.__data[nivel].is_empty() \\\n",
        "        and nivel < self.length():\n",
        "      nivel += 1\n",
        "\n",
        "    if nivel >= self.length():\n",
        "      print(\"La cola esta vacia\")\n",
        "    else:\n",
        "      return self.__data[nivel].dequeue()\n",
        "\n",
        "  def to_string(self):\n",
        "    prioridad = 0\n",
        "    for cola in self.__data:\n",
        "      print(f\"Prioridad {prioridad} ->\", end=\"\")\n",
        "      cola.to_string()\n",
        "      prioridad += 1"
      ],
      "execution_count": 7,
      "outputs": []
    },
    {
      "cell_type": "code",
      "metadata": {
        "colab": {
          "base_uri": "https://localhost:8080/"
        },
        "id": "aRzbkepMMmWw",
        "outputId": "971d828e-8b1c-4553-c210-73ecad652b0f"
      },
      "source": [
        "#Prueba de la cola con prioridad\n",
        "salvavidas = BoundedPriorityQueue(7)\n",
        "salvavidas.enqueue(4,\"Maestre\")\n",
        "salvavidas.enqueue(1,\"Niños\")\n",
        "salvavidas.enqueue(4,\"Mecanico\")\n",
        "salvavidas.enqueue(3, \"Mujeres\")\n",
        "salvavidas.enqueue(2, \"Tercera edad\")\n",
        "salvavidas.enqueue(1, \"Niñas\")\n",
        "salvavidas.enqueue(3, \"Hombres\")\n",
        "salvavidas.enqueue(4, \"Vigia\")\n",
        "salvavidas.enqueue(5, \"Capitan\")\n",
        "salvavidas.enqueue(4, \"Timonel\")\n",
        "salvavidas.to_string()\n",
        "sig = salvavidas.dequeue()\n",
        "print(f\"Subiendo {sig} al bote salvavidas!!\")\n",
        "salvavidas.to_string()"
      ],
      "execution_count": 8,
      "outputs": [
        {
          "output_type": "stream",
          "name": "stdout",
          "text": [
            "Prioridad 0 ->\n",
            "Prioridad 1 ->| Niños |<--| Niñas |<--\n",
            "Prioridad 2 ->| Tercera edad |<--\n",
            "Prioridad 3 ->| Mujeres |<--| Hombres |<--\n",
            "Prioridad 4 ->| Maestre |<--| Mecanico |<--| Vigia |<--| Timonel |<--\n",
            "Prioridad 5 ->| Capitan |<--\n",
            "Prioridad 6 ->\n",
            "Subiendo Niños al bote salvavidas!!\n",
            "Prioridad 0 ->\n",
            "Prioridad 1 ->| Niñas |<--\n",
            "Prioridad 2 ->| Tercera edad |<--\n",
            "Prioridad 3 ->| Mujeres |<--| Hombres |<--\n",
            "Prioridad 4 ->| Maestre |<--| Mecanico |<--| Vigia |<--| Timonel |<--\n",
            "Prioridad 5 ->| Capitan |<--\n",
            "Prioridad 6 ->\n"
          ]
        }
      ]
    },
    {
      "cell_type": "code",
      "metadata": {
        "id": "8Npw2nBWR3eK"
      },
      "source": [
        "#implementacion de las colas de prioridad sin acotamientos\n",
        "\n",
        "class PriorityQueue:\n",
        "  def __init__(self):\n",
        "    self.__data =[]\n",
        "    self.__size = 0\n",
        "\n",
        "  def is_empty(self):\n",
        "    return self.__size == 0\n",
        "\n",
        "  def length(self):\n",
        "    return self.__size \n",
        "\n",
        "  def enqueue(self, prioridad, elem):\n",
        "    existe = False\n",
        "    indice = 0\n",
        "    for index in range(len(self.__data)):\n",
        "      if self.__data[index][\"prioridad\"]==prioridad:\n",
        "        existe = True\n",
        "        indice = index\n",
        "      \n",
        "    if existe:\n",
        "      self.__data[indice][\"cola\"].enqueue(elem)\n",
        "    else:\n",
        "      self.__data.append({\"prioridad\":prioridad, \"cola\":Queue()})\n",
        "      self.__data[-1][\"cola\"].enqueue(elem)\n",
        "\n",
        "  def to_string(self):\n",
        "    for cola in self.__data:\n",
        "      cola[\"cola\"].to_string()"
      ],
      "execution_count": 23,
      "outputs": []
    },
    {
      "cell_type": "code",
      "metadata": {
        "colab": {
          "base_uri": "https://localhost:8080/"
        },
        "id": "HCC7Iit4WhAL",
        "outputId": "012f856e-4f77-4e4c-9d4c-6a744cb1d59f"
      },
      "source": [
        "cp = PriorityQueue()\n",
        "cp.enqueue(1,\"niñas\")\n",
        "cp.enqueue(2,\"niños\")\n",
        "cp.enqueue(2,\"Profesores1\")\n",
        "cp.to_string()"
      ],
      "execution_count": 24,
      "outputs": [
        {
          "output_type": "stream",
          "name": "stdout",
          "text": [
            "| niñas |<--\n",
            "| niños |<--| Profesores1 |<--\n"
          ]
        }
      ]
    }
  ]
}