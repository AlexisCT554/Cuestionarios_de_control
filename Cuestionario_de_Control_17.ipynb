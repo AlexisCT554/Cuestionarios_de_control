{
  "nbformat": 4,
  "nbformat_minor": 0,
  "metadata": {
    "colab": {
      "name": "arboles_1310.ipynb",
      "provenance": []
    },
    "kernelspec": {
      "name": "python3",
      "display_name": "Python 3"
    },
    "language_info": {
      "name": "python"
    }
  },
  "cells": [
    {
      "cell_type": "code",
      "metadata": {
        "id": "Au-eJpJtCKpw"
      },
      "source": [
        "class NodoBinario:\n",
        "  def __init__(self, value, left = None , right = None):\n",
        "    self.data = value\n",
        "    self.left = left\n",
        "    self.right = right\n",
        "\n",
        "\n",
        "class NodoTernario:\n",
        "    def __init__(self, value, left = None ,center = None, right = None):\n",
        "      self.data = value\n",
        "      self.left = left\n",
        "      self.center = center\n",
        "      self.right = right\n"
      ],
      "execution_count": 8,
      "outputs": []
    },
    {
      "cell_type": "code",
      "metadata": {
        "colab": {
          "base_uri": "https://localhost:8080/"
        },
        "id": "5Gn5IrQpDy9j",
        "outputId": "d4aaf2ef-4d0c-41f1-87d8-e4cc906124fd"
      },
      "source": [
        "arbol1= NodoBinario(\"R\",NodoBinario(\"C\"),NodoBinario(\"H\"))\n",
        "print(arbol1.right.data)\n",
        "\n",
        "arbol2 = NodoTernario(4,NodoTernario(3,NodoTernario(5,left=NodoTernario(2)),NodoTernario(5),NodoTernario(2)), None , NodoTernario(5))\n",
        "print(arbol2.left.right.data)\n",
        "print(arbol2.data)\n",
        "print(arbol2.left.center.data)\n",
        "print(arbol2.right.left)\n",
        "print(arbol2.left.left.left.data)\n",
        "print(\"---------imprimir el mismo sin usar la palabra left en el print------------\")\n",
        "aux = arbol2\n",
        "while (aux.left != None):\n",
        "  aux = aux.left\n",
        "print(aux.data)"
      ],
      "execution_count": 9,
      "outputs": [
        {
          "output_type": "stream",
          "name": "stdout",
          "text": [
            "H\n",
            "2\n",
            "4\n",
            "5\n",
            "None\n",
            "2\n",
            "---------imprimir el mismo sin usar la palabra left en el print------------\n",
            "2\n"
          ]
        }
      ]
    },
    {
      "cell_type": "code",
      "metadata": {
        "colab": {
          "base_uri": "https://localhost:8080/"
        },
        "id": "F6RevyBWHJCp",
        "outputId": "6083575f-9e1f-479a-b782-be88a0a565ef"
      },
      "source": [
        "root = NodoBinario(\"Santi\",None,NodoBinario(\"Jesus\",NodoBinario(\"Pedro\",None,NodoBinario(\"Pedro jr\"))))\n",
        "print(root.right.left.right.data)"
      ],
      "execution_count": 10,
      "outputs": [
        {
          "output_type": "stream",
          "name": "stdout",
          "text": [
            "Pedro jr\n"
          ]
        }
      ]
    }
  ]
}